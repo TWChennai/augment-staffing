{
 "cells": [
  {
   "cell_type": "code",
   "execution_count": 82,
   "metadata": {},
   "outputs": [],
   "source": [
    "import pandas as pd\n",
    "dfObj = pd.DataFrame(columns=['Java', 'C#','Scala','Retail'])"
   ]
  },
  {
   "cell_type": "code",
   "execution_count": 83,
   "metadata": {},
   "outputs": [],
   "source": [
    "import random\n",
    "for x in range(1000):\n",
    "    dfObj=dfObj.append({'Java':random.randint(1,5),'C#':random.randint(1,5),'Scala':random.randint(1,5),'Retail':random.randint(1,5)},ignore_index=True)"
   ]
  },
  {
   "cell_type": "code",
   "execution_count": 84,
   "metadata": {},
   "outputs": [],
   "source": [
    "from sklearn.cluster import KMeans\n",
    "wcss=[]\n",
    "for i in range(1,13):\n",
    "    kmeans=KMeans(n_clusters=i,init='k-means++',n_init=10,max_iter=300,random_state=0)\n",
    "    kmeans.fit(dfObj)\n",
    "    wcss.append(kmeans.inertia_)"
   ]
  },
  {
   "cell_type": "code",
   "execution_count": 85,
   "metadata": {},
   "outputs": [
    {
     "data": {
      "image/png": "[encoded data removed]",
      "text/plain": [
       "<Figure size 432x288 with 1 Axes>"
      ]
     },
     "metadata": {},
     "output_type": "display_data"
    }
   ],
   "source": [
    "import matplotlib.pyplot as plt\n",
    "plt.plot(range(1,13),wcss)\n",
    "plt.title('Elbow method')\n",
    "plt.xlabel('Number of clusters')\n",
    "plt.ylabel('WCSS')\n",
    "plt.show()"
   ]
  },
  {
   "cell_type": "code",
   "execution_count": 86,
   "metadata": {},
   "outputs": [],
   "source": [
    "kmeans=KMeans(n_clusters=4,init='k-means++',n_init=10,max_iter=300,random_state=0)\n",
    "y_kmeans=kmeans.fit_predict(dfObj)"
   ]
  },
  {
   "cell_type": "code",
   "execution_count": 94,
   "metadata": {},
   "outputs": [
    {
     "name": "stdout",
     "output_type": "stream",
     "text": [
      "Int64Index([  0,  19,  27,  30,  39,  49,  50,  56,  60,  71,\n",
      "            ...\n",
      "            964, 968, 972, 979, 980, 981, 991, 996, 998, 999],\n",
      "           dtype='int64', length=221)\n",
      "Int64Index([  6,  10,  15,  23,  38,  41,  42,  46,  57,  62,\n",
      "            ...\n",
      "            975, 983, 984, 985, 986, 988, 989, 993, 994, 997],\n",
      "           dtype='int64', length=247)\n",
      "Int64Index([  1,   3,   5,   7,  11,  20,  21,  24,  28,  32,\n",
      "            ...\n",
      "            951, 960, 966, 967, 969, 970, 976, 982, 990, 995],\n",
      "           dtype='int64', length=262)\n",
      "Int64Index([  2,   4,   8,   9,  12,  13,  14,  16,  17,  18,\n",
      "            ...\n",
      "            957, 958, 962, 965, 971, 973, 977, 978, 987, 992],\n",
      "           dtype='int64', length=270)\n"
     ]
    }
   ],
   "source": [
    "# colors = [\"black\",\"green\",\"blue\",\"red\"]\n",
    "# titles= range(0,4)\n",
    "for i in range(0,4):\n",
    "    print(dfObj[y_kmeans == i].index)\n",
    "#     plt.scatter(dfObj[y_kmeans == i].index,dfObj[y_kmeans == i].index,c=colors[i],label=titles[i],s=100)\n",
    "\n",
    "plt.show()"
   ]
  },
  {
   "cell_type": "code",
   "execution_count": null,
   "metadata": {},
   "outputs": [],
   "source": []
  }
 ],
 "metadata": {
  "kernelspec": {
   "display_name": "Python 3",
   "language": "python",
   "name": "python3"
  },
  "language_info": {
   "codemirror_mode": {
    "name": "ipython",
    "version": 3
   },
   "file_extension": ".py",
   "mimetype": "text/x-python",
   "name": "python",
   "nbconvert_exporter": "python",
   "pygments_lexer": "ipython3",
   "version": "3.6.4"
  }
 },
 "nbformat": 4,
 "nbformat_minor": 2
}
